{
  "cells": [
    {
      "cell_type": "markdown",
      "metadata": {
        "id": "I-Ofn9rJeU3c"
      },
      "source": [
        "Regression DNN"
      ]
    },
    {
      "cell_type": "markdown",
      "metadata": {
        "id": "56K9g0Fjmtm7"
      },
      "source": [
        "IMPORTING LIBRARIES"
      ]
    },
    {
      "cell_type": "code",
      "execution_count": 26,
      "metadata": {
        "id": "5GtxJdluk3tB"
      },
      "outputs": [],
      "source": [
        "from pandas import read_csv\n",
        "from keras.models import Sequential\n",
        "from keras.layers import Dense\n",
        "from keras.wrappers.scikit_learn import KerasRegressor\n",
        "from sklearn.model_selection import cross_val_score\n",
        "from sklearn.model_selection import KFold\n",
        "from sklearn.pipeline import Pipeline\n",
        "from sklearn.model_selection import train_test_split\n",
        "from keras.layers import Dropout \n",
        "from keras import regularizers \n",
        "from tensorflow import keras\n",
        "from sklearn.preprocessing import LabelEncoder\n",
        "from sklearn.preprocessing import StandardScaler\n",
        "import pandas as pd"
      ]
    },
    {
      "cell_type": "markdown",
      "metadata": {
        "id": "UFPKCS62mxOq"
      },
      "source": [
        "READING DATASET"
      ]
    },
    {
      "cell_type": "code",
      "execution_count": 3,
      "metadata": {
        "id": "uWgsYT5VlNrK"
      },
      "outputs": [],
      "source": [
        "# load data and arrange into Pandas dataframe\n",
        "df = read_csv(\"dataset_shade_2.csv\")"
      ]
    },
    {
      "cell_type": "code",
      "execution_count": 4,
      "metadata": {
        "colab": {
          "base_uri": "https://localhost:8080/"
        },
        "id": "6TgBz5_kla4Q",
        "outputId": "49b8e47b-10ad-484f-fdbf-2783f99885b8"
      },
      "outputs": [
        {
          "name": "stdout",
          "output_type": "stream",
          "text": [
            "       count  density  width  shade  diameter  gauge  needles  feeders  rpm  \\\n",
            "0  19.683333      155   95.0  Black        30     28     2640       88   24   \n",
            "1  19.683333      155  169.0  Black        30     28     2640       88   24   \n",
            "2  19.683333      155   91.0  Black        34     28     2976      102   22   \n",
            "3  19.683333      155  183.0  Black        34     28     2976      102   22   \n",
            "4  19.683333      155  183.0  Black        34     28     2976      102   18   \n",
            "\n",
            "   shrinkage_length  shrinkage_width  stitch_length  \n",
            "0               2.0              2.0       0.281061  \n",
            "1               2.0              2.0       0.281061  \n",
            "2               2.0              2.0       0.281082  \n",
            "3               2.0              2.0       0.281082  \n",
            "4               2.3              2.0       0.275538  \n"
          ]
        }
      ],
      "source": [
        "print(df.head())\n"
      ]
    },
    {
      "cell_type": "code",
      "execution_count": 5,
      "metadata": {
        "colab": {
          "base_uri": "https://localhost:8080/"
        },
        "id": "uAk651pXmTox",
        "outputId": "a469f4b6-3d82-4b42-9315-8415698f8f09"
      },
      "outputs": [
        {
          "name": "stdout",
          "output_type": "stream",
          "text": [
            "             count      density        width     diameter        gauge  \\\n",
            "count  7022.000000  7022.000000  7022.000000  7022.000000  7022.000000   \n",
            "mean     22.167065   157.465110   151.155440    32.755056    25.094845   \n",
            "std       3.563940    14.290807    49.449595     1.775969     1.500075   \n",
            "min      14.762500   120.000000    65.000000    28.000000    16.000000   \n",
            "25%      19.683333   145.000000    96.000000    30.000000    24.000000   \n",
            "50%      22.711538   160.000000   170.000000    34.000000    24.000000   \n",
            "75%      22.711538   165.000000   185.000000    34.000000    26.000000   \n",
            "max      49.208333   240.000000  1709.000000    34.000000    32.000000   \n",
            "\n",
            "           needles      feeders          rpm  shrinkage_length  \\\n",
            "count  7022.000000  7022.000000  7022.000000       7022.000000   \n",
            "mean   2574.389633    89.023925    20.530333          5.051595   \n",
            "std     202.943270    22.647840     2.639608          1.342664   \n",
            "min    1692.000000    11.000000    12.000000          1.000000   \n",
            "25%    2460.000000    88.000000    18.000000          4.200000   \n",
            "50%    2568.000000   100.000000    22.000000          5.000000   \n",
            "75%    2760.000000   102.000000    22.000000          6.000000   \n",
            "max    3000.000000   109.000000    24.000000          9.000000   \n",
            "\n",
            "       shrinkage_width  stitch_length  \n",
            "count      7022.000000    7022.000000  \n",
            "mean          5.894005       0.280639  \n",
            "std           1.206256       0.021851  \n",
            "min           2.000000       0.002520  \n",
            "25%           5.000000       0.264019  \n",
            "50%           6.000000       0.279472  \n",
            "75%           7.000000       0.296951  \n",
            "max          10.000000       0.458038  \n"
          ]
        }
      ],
      "source": [
        "print(df.describe())"
      ]
    },
    {
      "cell_type": "markdown",
      "metadata": {
        "id": "w00i2WlXnAKA"
      },
      "source": [
        "ENCODING CATEGORICAL DATA"
      ]
    },
    {
      "cell_type": "code",
      "execution_count": 6,
      "metadata": {
        "colab": {
          "base_uri": "https://localhost:8080/",
          "height": 206
        },
        "id": "_rrX_Wycm_pK",
        "outputId": "0034511c-a8e5-41fe-81b6-3523a238efe7"
      },
      "outputs": [
        {
          "data": {
            "text/html": [
              "\n",
              "  <div id=\"df-b34beebd-e34c-49a0-be29-88b4d45627be\">\n",
              "    <div class=\"colab-df-container\">\n",
              "      <div>\n",
              "<style scoped>\n",
              "    .dataframe tbody tr th:only-of-type {\n",
              "        vertical-align: middle;\n",
              "    }\n",
              "\n",
              "    .dataframe tbody tr th {\n",
              "        vertical-align: top;\n",
              "    }\n",
              "\n",
              "    .dataframe thead th {\n",
              "        text-align: right;\n",
              "    }\n",
              "</style>\n",
              "<table border=\"1\" class=\"dataframe\">\n",
              "  <thead>\n",
              "    <tr style=\"text-align: right;\">\n",
              "      <th></th>\n",
              "      <th>count</th>\n",
              "      <th>density</th>\n",
              "      <th>width</th>\n",
              "      <th>shade</th>\n",
              "      <th>diameter</th>\n",
              "      <th>gauge</th>\n",
              "      <th>needles</th>\n",
              "      <th>feeders</th>\n",
              "      <th>rpm</th>\n",
              "      <th>shrinkage_length</th>\n",
              "      <th>shrinkage_width</th>\n",
              "      <th>stitch_length</th>\n",
              "    </tr>\n",
              "  </thead>\n",
              "  <tbody>\n",
              "    <tr>\n",
              "      <th>0</th>\n",
              "      <td>19.683333</td>\n",
              "      <td>155</td>\n",
              "      <td>95.0</td>\n",
              "      <td>0</td>\n",
              "      <td>30</td>\n",
              "      <td>28</td>\n",
              "      <td>2640</td>\n",
              "      <td>88</td>\n",
              "      <td>24</td>\n",
              "      <td>2.0</td>\n",
              "      <td>2.0</td>\n",
              "      <td>0.281061</td>\n",
              "    </tr>\n",
              "    <tr>\n",
              "      <th>1</th>\n",
              "      <td>19.683333</td>\n",
              "      <td>155</td>\n",
              "      <td>169.0</td>\n",
              "      <td>0</td>\n",
              "      <td>30</td>\n",
              "      <td>28</td>\n",
              "      <td>2640</td>\n",
              "      <td>88</td>\n",
              "      <td>24</td>\n",
              "      <td>2.0</td>\n",
              "      <td>2.0</td>\n",
              "      <td>0.281061</td>\n",
              "    </tr>\n",
              "    <tr>\n",
              "      <th>2</th>\n",
              "      <td>19.683333</td>\n",
              "      <td>155</td>\n",
              "      <td>91.0</td>\n",
              "      <td>0</td>\n",
              "      <td>34</td>\n",
              "      <td>28</td>\n",
              "      <td>2976</td>\n",
              "      <td>102</td>\n",
              "      <td>22</td>\n",
              "      <td>2.0</td>\n",
              "      <td>2.0</td>\n",
              "      <td>0.281082</td>\n",
              "    </tr>\n",
              "    <tr>\n",
              "      <th>3</th>\n",
              "      <td>19.683333</td>\n",
              "      <td>155</td>\n",
              "      <td>183.0</td>\n",
              "      <td>0</td>\n",
              "      <td>34</td>\n",
              "      <td>28</td>\n",
              "      <td>2976</td>\n",
              "      <td>102</td>\n",
              "      <td>22</td>\n",
              "      <td>2.0</td>\n",
              "      <td>2.0</td>\n",
              "      <td>0.281082</td>\n",
              "    </tr>\n",
              "    <tr>\n",
              "      <th>4</th>\n",
              "      <td>19.683333</td>\n",
              "      <td>155</td>\n",
              "      <td>183.0</td>\n",
              "      <td>0</td>\n",
              "      <td>34</td>\n",
              "      <td>28</td>\n",
              "      <td>2976</td>\n",
              "      <td>102</td>\n",
              "      <td>18</td>\n",
              "      <td>2.3</td>\n",
              "      <td>2.0</td>\n",
              "      <td>0.275538</td>\n",
              "    </tr>\n",
              "  </tbody>\n",
              "</table>\n",
              "</div>\n",
              "      <button class=\"colab-df-convert\" onclick=\"convertToInteractive('df-b34beebd-e34c-49a0-be29-88b4d45627be')\"\n",
              "              title=\"Convert this dataframe to an interactive table.\"\n",
              "              style=\"display:none;\">\n",
              "        \n",
              "  <svg xmlns=\"http://www.w3.org/2000/svg\" height=\"24px\"viewBox=\"0 0 24 24\"\n",
              "       width=\"24px\">\n",
              "    <path d=\"M0 0h24v24H0V0z\" fill=\"none\"/>\n",
              "    <path d=\"M18.56 5.44l.94 2.06.94-2.06 2.06-.94-2.06-.94-.94-2.06-.94 2.06-2.06.94zm-11 1L8.5 8.5l.94-2.06 2.06-.94-2.06-.94L8.5 2.5l-.94 2.06-2.06.94zm10 10l.94 2.06.94-2.06 2.06-.94-2.06-.94-.94-2.06-.94 2.06-2.06.94z\"/><path d=\"M17.41 7.96l-1.37-1.37c-.4-.4-.92-.59-1.43-.59-.52 0-1.04.2-1.43.59L10.3 9.45l-7.72 7.72c-.78.78-.78 2.05 0 2.83L4 21.41c.39.39.9.59 1.41.59.51 0 1.02-.2 1.41-.59l7.78-7.78 2.81-2.81c.8-.78.8-2.07 0-2.86zM5.41 20L4 18.59l7.72-7.72 1.47 1.35L5.41 20z\"/>\n",
              "  </svg>\n",
              "      </button>\n",
              "      \n",
              "  <style>\n",
              "    .colab-df-container {\n",
              "      display:flex;\n",
              "      flex-wrap:wrap;\n",
              "      gap: 12px;\n",
              "    }\n",
              "\n",
              "    .colab-df-convert {\n",
              "      background-color: #E8F0FE;\n",
              "      border: none;\n",
              "      border-radius: 50%;\n",
              "      cursor: pointer;\n",
              "      display: none;\n",
              "      fill: #1967D2;\n",
              "      height: 32px;\n",
              "      padding: 0 0 0 0;\n",
              "      width: 32px;\n",
              "    }\n",
              "\n",
              "    .colab-df-convert:hover {\n",
              "      background-color: #E2EBFA;\n",
              "      box-shadow: 0px 1px 2px rgba(60, 64, 67, 0.3), 0px 1px 3px 1px rgba(60, 64, 67, 0.15);\n",
              "      fill: #174EA6;\n",
              "    }\n",
              "\n",
              "    [theme=dark] .colab-df-convert {\n",
              "      background-color: #3B4455;\n",
              "      fill: #D2E3FC;\n",
              "    }\n",
              "\n",
              "    [theme=dark] .colab-df-convert:hover {\n",
              "      background-color: #434B5C;\n",
              "      box-shadow: 0px 1px 3px 1px rgba(0, 0, 0, 0.15);\n",
              "      filter: drop-shadow(0px 1px 2px rgba(0, 0, 0, 0.3));\n",
              "      fill: #FFFFFF;\n",
              "    }\n",
              "  </style>\n",
              "\n",
              "      <script>\n",
              "        const buttonEl =\n",
              "          document.querySelector('#df-b34beebd-e34c-49a0-be29-88b4d45627be button.colab-df-convert');\n",
              "        buttonEl.style.display =\n",
              "          google.colab.kernel.accessAllowed ? 'block' : 'none';\n",
              "\n",
              "        async function convertToInteractive(key) {\n",
              "          const element = document.querySelector('#df-b34beebd-e34c-49a0-be29-88b4d45627be');\n",
              "          const dataTable =\n",
              "            await google.colab.kernel.invokeFunction('convertToInteractive',\n",
              "                                                     [key], {});\n",
              "          if (!dataTable) return;\n",
              "\n",
              "          const docLinkHtml = 'Like what you see? Visit the ' +\n",
              "            '<a target=\"_blank\" href=https://colab.research.google.com/notebooks/data_table.ipynb>data table notebook</a>'\n",
              "            + ' to learn more about interactive tables.';\n",
              "          element.innerHTML = '';\n",
              "          dataTable['output_type'] = 'display_data';\n",
              "          await google.colab.output.renderOutput(dataTable, element);\n",
              "          const docLink = document.createElement('div');\n",
              "          docLink.innerHTML = docLinkHtml;\n",
              "          element.appendChild(docLink);\n",
              "        }\n",
              "      </script>\n",
              "    </div>\n",
              "  </div>\n",
              "  "
            ],
            "text/plain": [
              "       count  density  width  shade  diameter  gauge  needles  feeders  rpm  \\\n",
              "0  19.683333      155   95.0      0        30     28     2640       88   24   \n",
              "1  19.683333      155  169.0      0        30     28     2640       88   24   \n",
              "2  19.683333      155   91.0      0        34     28     2976      102   22   \n",
              "3  19.683333      155  183.0      0        34     28     2976      102   22   \n",
              "4  19.683333      155  183.0      0        34     28     2976      102   18   \n",
              "\n",
              "   shrinkage_length  shrinkage_width  stitch_length  \n",
              "0               2.0              2.0       0.281061  \n",
              "1               2.0              2.0       0.281061  \n",
              "2               2.0              2.0       0.281082  \n",
              "3               2.0              2.0       0.281082  \n",
              "4               2.3              2.0       0.275538  "
            ]
          },
          "execution_count": 6,
          "metadata": {},
          "output_type": "execute_result"
        }
      ],
      "source": [
        "# Instantiate LabelEncoder\n",
        "le = LabelEncoder()\n",
        "# Encode single column status\n",
        "df.shade = le.fit_transform(df.shade)\n",
        "# Print df.head for checking the transformation\n",
        "df.head()"
      ]
    },
    {
      "cell_type": "code",
      "execution_count": 7,
      "metadata": {
        "id": "2g6otHkFmtbz"
      },
      "outputs": [],
      "source": [
        "#Split into features and target (stitch_length)\n",
        "X = df.drop('stitch_length', axis = 1)\n",
        "y = df['stitch_length']"
      ]
    },
    {
      "cell_type": "code",
      "execution_count": 8,
      "metadata": {
        "id": "ILPHhzsZm3EZ"
      },
      "outputs": [],
      "source": [
        "X_train, X_test, y_train, y_test = train_test_split(X, y, test_size = 0.2, random_state = 20)"
      ]
    },
    {
      "cell_type": "code",
      "execution_count": 9,
      "metadata": {
        "colab": {
          "base_uri": "https://localhost:8080/"
        },
        "id": "fQwWWLXum6qh",
        "outputId": "49bd25ec-47f8-47a2-968a-dfd694231966"
      },
      "outputs": [
        {
          "data": {
            "text/plain": [
              "StandardScaler()"
            ]
          },
          "execution_count": 9,
          "metadata": {},
          "output_type": "execute_result"
        }
      ],
      "source": [
        "#Scale dataset\n",
        "scaler=StandardScaler()\n",
        "scaler.fit(X_train)"
      ]
    },
    {
      "cell_type": "code",
      "execution_count": 10,
      "metadata": {
        "id": "MwegoBiBm8qi"
      },
      "outputs": [],
      "source": [
        "X_train_scaled = scaler.transform(X_train)\n",
        "X_test_scaled = scaler.transform(X_test)"
      ]
    },
    {
      "cell_type": "code",
      "execution_count": 11,
      "metadata": {
        "id": "0YKZTa-Vt1ho"
      },
      "outputs": [],
      "source": [
        "model = Sequential()\n",
        "model.add(Dense(90, input_dim=11, activation='relu'))\n",
        "model.add(Dense(80, activation='relu'))\n",
        "model.add(Dense(80, activation='sigmoid'))\n",
        "model.add(Dense(60, activation='sigmoid'))\n",
        "model.add(Dense(50, activation='relu'))\n",
        "model.add(Dense(50, activation='relu'))\n",
        "model.add(Dense(50, activation='relu'))\n",
        "model.add(Dense(1))"
      ]
    },
    {
      "cell_type": "code",
      "execution_count": 12,
      "metadata": {
        "id": "XTAexNjPuubS"
      },
      "outputs": [],
      "source": [
        "import tensorflow as tf\n",
        "tf.keras.optimizers.Adam(learning_rate=0.0001, beta_1=0.9, beta_2=0.999, amsgrad=False)\n",
        "model.compile(loss='mean_squared_error', optimizer='Adam', metrics=['mean_absolute_percentage_error'])"
      ]
    },
    {
      "cell_type": "code",
      "execution_count": 13,
      "metadata": {
        "colab": {
          "base_uri": "https://localhost:8080/"
        },
        "id": "SxEczqSI3t5M",
        "outputId": "737933bb-e65b-4224-8e19-6622f90ccc54"
      },
      "outputs": [
        {
          "name": "stdout",
          "output_type": "stream",
          "text": [
            "Epoch 1/100\n",
            "36/36 [==============================] - 1s 11ms/step - loss: 0.0216 - mean_absolute_percentage_error: 31.5931 - val_loss: 9.5439e-04 - val_mean_absolute_percentage_error: 19.4648\n",
            "Epoch 2/100\n",
            "36/36 [==============================] - 0s 5ms/step - loss: 4.6272e-04 - mean_absolute_percentage_error: 5.9745 - val_loss: 4.1578e-04 - val_mean_absolute_percentage_error: 15.0873\n",
            "Epoch 3/100\n",
            "36/36 [==============================] - 0s 5ms/step - loss: 3.0733e-04 - mean_absolute_percentage_error: 4.8151 - val_loss: 2.7223e-04 - val_mean_absolute_percentage_error: 13.3770\n",
            "Epoch 4/100\n",
            "36/36 [==============================] - 0s 5ms/step - loss: 1.7248e-04 - mean_absolute_percentage_error: 3.4623 - val_loss: 1.6013e-04 - val_mean_absolute_percentage_error: 11.6817\n",
            "Epoch 5/100\n",
            "36/36 [==============================] - 0s 4ms/step - loss: 9.2320e-05 - mean_absolute_percentage_error: 2.4851 - val_loss: 1.2448e-04 - val_mean_absolute_percentage_error: 11.0559\n",
            "Epoch 6/100\n",
            "36/36 [==============================] - 0s 5ms/step - loss: 6.8362e-05 - mean_absolute_percentage_error: 2.1117 - val_loss: 1.1031e-04 - val_mean_absolute_percentage_error: 10.9136\n",
            "Epoch 7/100\n",
            "36/36 [==============================] - 0s 5ms/step - loss: 5.6402e-05 - mean_absolute_percentage_error: 1.8751 - val_loss: 1.0382e-04 - val_mean_absolute_percentage_error: 10.7975\n",
            "Epoch 8/100\n",
            "36/36 [==============================] - 0s 5ms/step - loss: 5.4105e-05 - mean_absolute_percentage_error: 1.8577 - val_loss: 1.0717e-04 - val_mean_absolute_percentage_error: 10.7438\n",
            "Epoch 9/100\n",
            "36/36 [==============================] - 0s 5ms/step - loss: 5.1036e-05 - mean_absolute_percentage_error: 1.7813 - val_loss: 1.0071e-04 - val_mean_absolute_percentage_error: 10.6874\n",
            "Epoch 10/100\n",
            "36/36 [==============================] - 0s 5ms/step - loss: 4.7129e-05 - mean_absolute_percentage_error: 1.7158 - val_loss: 9.7741e-05 - val_mean_absolute_percentage_error: 10.6744\n",
            "Epoch 11/100\n",
            "36/36 [==============================] - 0s 5ms/step - loss: 4.9725e-05 - mean_absolute_percentage_error: 1.7299 - val_loss: 9.7673e-05 - val_mean_absolute_percentage_error: 10.6893\n",
            "Epoch 12/100\n",
            "36/36 [==============================] - 0s 5ms/step - loss: 4.4048e-05 - mean_absolute_percentage_error: 1.6208 - val_loss: 1.0059e-04 - val_mean_absolute_percentage_error: 10.7593\n",
            "Epoch 13/100\n",
            "36/36 [==============================] - 0s 5ms/step - loss: 4.1492e-05 - mean_absolute_percentage_error: 1.5765 - val_loss: 9.7642e-05 - val_mean_absolute_percentage_error: 10.6845\n",
            "Epoch 14/100\n",
            "36/36 [==============================] - 0s 5ms/step - loss: 4.0716e-05 - mean_absolute_percentage_error: 1.5624 - val_loss: 9.6288e-05 - val_mean_absolute_percentage_error: 10.6284\n",
            "Epoch 15/100\n",
            "36/36 [==============================] - 0s 5ms/step - loss: 4.0560e-05 - mean_absolute_percentage_error: 1.5478 - val_loss: 1.0349e-04 - val_mean_absolute_percentage_error: 10.7645\n",
            "Epoch 16/100\n",
            "36/36 [==============================] - 0s 4ms/step - loss: 4.4822e-05 - mean_absolute_percentage_error: 1.6465 - val_loss: 1.0014e-04 - val_mean_absolute_percentage_error: 10.7994\n",
            "Epoch 17/100\n",
            "36/36 [==============================] - 0s 5ms/step - loss: 3.9152e-05 - mean_absolute_percentage_error: 1.4868 - val_loss: 9.5914e-05 - val_mean_absolute_percentage_error: 10.6586\n",
            "Epoch 18/100\n",
            "36/36 [==============================] - 0s 5ms/step - loss: 3.8856e-05 - mean_absolute_percentage_error: 1.4781 - val_loss: 1.0056e-04 - val_mean_absolute_percentage_error: 10.8228\n",
            "Epoch 19/100\n",
            "36/36 [==============================] - 0s 5ms/step - loss: 3.7722e-05 - mean_absolute_percentage_error: 1.4610 - val_loss: 9.8670e-05 - val_mean_absolute_percentage_error: 10.7486\n",
            "Epoch 20/100\n",
            "36/36 [==============================] - 0s 5ms/step - loss: 3.6792e-05 - mean_absolute_percentage_error: 1.4292 - val_loss: 9.7344e-05 - val_mean_absolute_percentage_error: 10.6930\n",
            "Epoch 21/100\n",
            "36/36 [==============================] - 0s 5ms/step - loss: 3.6613e-05 - mean_absolute_percentage_error: 1.4446 - val_loss: 9.7302e-05 - val_mean_absolute_percentage_error: 10.7128\n",
            "Epoch 22/100\n",
            "36/36 [==============================] - 0s 4ms/step - loss: 3.9798e-05 - mean_absolute_percentage_error: 1.5573 - val_loss: 9.2477e-05 - val_mean_absolute_percentage_error: 10.5244\n",
            "Epoch 23/100\n",
            "36/36 [==============================] - 0s 5ms/step - loss: 3.6227e-05 - mean_absolute_percentage_error: 1.4506 - val_loss: 9.2801e-05 - val_mean_absolute_percentage_error: 10.5266\n",
            "Epoch 24/100\n",
            "36/36 [==============================] - 0s 4ms/step - loss: 3.7745e-05 - mean_absolute_percentage_error: 1.5140 - val_loss: 9.4583e-05 - val_mean_absolute_percentage_error: 10.5829\n",
            "Epoch 25/100\n",
            "36/36 [==============================] - 0s 4ms/step - loss: 3.5416e-05 - mean_absolute_percentage_error: 1.4432 - val_loss: 9.1742e-05 - val_mean_absolute_percentage_error: 10.4746\n",
            "Epoch 26/100\n",
            "36/36 [==============================] - 0s 5ms/step - loss: 3.2711e-05 - mean_absolute_percentage_error: 1.3676 - val_loss: 9.6064e-05 - val_mean_absolute_percentage_error: 10.6195\n",
            "Epoch 27/100\n",
            "36/36 [==============================] - 0s 4ms/step - loss: 3.2425e-05 - mean_absolute_percentage_error: 1.3813 - val_loss: 9.0564e-05 - val_mean_absolute_percentage_error: 10.4653\n",
            "Epoch 28/100\n",
            "36/36 [==============================] - 0s 5ms/step - loss: 3.0927e-05 - mean_absolute_percentage_error: 1.3303 - val_loss: 8.9076e-05 - val_mean_absolute_percentage_error: 10.4230\n",
            "Epoch 29/100\n",
            "36/36 [==============================] - 0s 4ms/step - loss: 3.0633e-05 - mean_absolute_percentage_error: 1.3329 - val_loss: 9.0026e-05 - val_mean_absolute_percentage_error: 10.4644\n",
            "Epoch 30/100\n",
            "36/36 [==============================] - 0s 5ms/step - loss: 3.0879e-05 - mean_absolute_percentage_error: 1.3567 - val_loss: 8.9861e-05 - val_mean_absolute_percentage_error: 10.4093\n",
            "Epoch 31/100\n",
            "36/36 [==============================] - 0s 4ms/step - loss: 2.9122e-05 - mean_absolute_percentage_error: 1.3139 - val_loss: 8.8492e-05 - val_mean_absolute_percentage_error: 10.4436\n",
            "Epoch 32/100\n",
            "36/36 [==============================] - 0s 5ms/step - loss: 2.7858e-05 - mean_absolute_percentage_error: 1.2728 - val_loss: 8.7389e-05 - val_mean_absolute_percentage_error: 10.3855\n",
            "Epoch 33/100\n",
            "36/36 [==============================] - 0s 5ms/step - loss: 2.7965e-05 - mean_absolute_percentage_error: 1.2993 - val_loss: 8.9571e-05 - val_mean_absolute_percentage_error: 10.4439\n",
            "Epoch 34/100\n",
            "36/36 [==============================] - 0s 5ms/step - loss: 2.8140e-05 - mean_absolute_percentage_error: 1.3158 - val_loss: 8.8212e-05 - val_mean_absolute_percentage_error: 10.4432\n",
            "Epoch 35/100\n",
            "36/36 [==============================] - 0s 4ms/step - loss: 2.9421e-05 - mean_absolute_percentage_error: 1.3713 - val_loss: 9.5859e-05 - val_mean_absolute_percentage_error: 10.5920\n",
            "Epoch 36/100\n",
            "36/36 [==============================] - 0s 4ms/step - loss: 2.8381e-05 - mean_absolute_percentage_error: 1.3263 - val_loss: 8.5469e-05 - val_mean_absolute_percentage_error: 10.3143\n",
            "Epoch 37/100\n",
            "36/36 [==============================] - 0s 4ms/step - loss: 2.6310e-05 - mean_absolute_percentage_error: 1.2693 - val_loss: 9.2467e-05 - val_mean_absolute_percentage_error: 10.6526\n",
            "Epoch 38/100\n",
            "36/36 [==============================] - 0s 5ms/step - loss: 2.4166e-05 - mean_absolute_percentage_error: 1.2046 - val_loss: 8.5204e-05 - val_mean_absolute_percentage_error: 10.2919\n",
            "Epoch 39/100\n",
            "36/36 [==============================] - 0s 5ms/step - loss: 2.4967e-05 - mean_absolute_percentage_error: 1.2300 - val_loss: 8.7143e-05 - val_mean_absolute_percentage_error: 10.3774\n",
            "Epoch 40/100\n",
            "36/36 [==============================] - 0s 5ms/step - loss: 2.4832e-05 - mean_absolute_percentage_error: 1.2388 - val_loss: 1.0468e-04 - val_mean_absolute_percentage_error: 10.9947\n",
            "Epoch 41/100\n",
            "36/36 [==============================] - 0s 4ms/step - loss: 2.6024e-05 - mean_absolute_percentage_error: 1.2804 - val_loss: 1.0567e-04 - val_mean_absolute_percentage_error: 10.8797\n",
            "Epoch 42/100\n",
            "36/36 [==============================] - 0s 5ms/step - loss: 2.8471e-05 - mean_absolute_percentage_error: 1.3778 - val_loss: 8.6375e-05 - val_mean_absolute_percentage_error: 10.3713\n",
            "Epoch 43/100\n",
            "36/36 [==============================] - 0s 4ms/step - loss: 2.2174e-05 - mean_absolute_percentage_error: 1.1550 - val_loss: 8.7560e-05 - val_mean_absolute_percentage_error: 10.4529\n"
          ]
        }
      ],
      "source": [
        "from keras import callbacks\n",
        "earlystopping = callbacks.EarlyStopping(monitor =\"val_loss\", \n",
        "                                        mode =\"min\", patience = 5, \n",
        "                                        restore_best_weights = True)\n",
        "  \n",
        "history = model.fit(X_train_scaled, y_train, batch_size = 128, \n",
        "                    epochs = 100, validation_split=0.2, \n",
        "                    callbacks =[earlystopping])"
      ]
    },
    {
      "cell_type": "code",
      "execution_count": null,
      "metadata": {
        "id": "qfPjDY59m_0V"
      },
      "outputs": [],
      "source": [
        "#fitting Model\n",
        "#history = model.fit(X_train_scaled, y_train, validation_split=0.2, epochs =100, callbacks =[earlystopping])"
      ]
    },
    {
      "cell_type": "code",
      "execution_count": 14,
      "metadata": {
        "colab": {
          "base_uri": "https://localhost:8080/",
          "height": 295
        },
        "id": "PV_tzrxnnu3g",
        "outputId": "565ed294-22f9-4928-c14f-c5b081eecbbd"
      },
      "outputs": [
        {
          "data": {
            "image/png": "[encoded data removed]",
            "text/plain": [
              "<Figure size 432x288 with 1 Axes>"
            ]
          },
          "metadata": {
            "needs_background": "light"
          },
          "output_type": "display_data"
        }
      ],
      "source": [
        "from matplotlib import pyplot as plt\n",
        "#plot the training and validation accuracy and loss at each epoch\n",
        "loss = history.history['loss']\n",
        "val_loss = history.history['val_loss']\n",
        "epochs = range(1, len(loss) + 1)\n",
        "plt.plot(epochs, loss, 'y', label='Training loss')\n",
        "plt.plot(epochs, val_loss, 'r', label='Validation loss')\n",
        "plt.title('Training and validation loss')\n",
        "plt.xlabel('Epochs')\n",
        "plt.ylabel('Loss')\n",
        "plt.legend()\n",
        "plt.show()"
      ]
    },
    {
      "cell_type": "code",
      "execution_count": 80,
      "metadata": {
        "colab": {
          "base_uri": "https://localhost:8080/"
        },
        "id": "KhIzF6CpoW_F",
        "outputId": "5d057201-065c-45d4-9060-b6d4a1c1acfc"
      },
      "outputs": [
        {
          "name": "stdout",
          "output_type": "stream",
          "text": [
            "1/1 [==============================] - 0s 18ms/step\n",
            "Predicted values are:  [[0.2998465 ]\n",
            " [0.27715096]\n",
            " [0.25572166]\n",
            " [0.2959124 ]\n",
            " [0.24591623]\n",
            " [0.30936053]\n",
            " [0.28803942]\n",
            " [0.2902803 ]\n",
            " [0.23544583]\n",
            " [0.2830738 ]]\n",
            "Real values are:  4011    0.298016\n",
            "1588    0.274094\n",
            "6666    0.257065\n",
            "97      0.305101\n",
            "2084    0.244456\n",
            "2927    0.311526\n",
            "4153    0.297101\n",
            "4210    0.291083\n",
            "1952    0.238071\n",
            "689     0.275543\n",
            "Name: stitch_length, dtype: float64\n"
          ]
        }
      ],
      "source": [
        "#Predict on test data\n",
        "predictions = model.predict(X_test_scaled[:10])\n",
        "y_real=y_test[:10]\n",
        "print(\"Predicted values are: \", predictions)\n",
        "print(\"Real values are: \", y_real)\n"
      ]
    },
    {
      "cell_type": "markdown",
      "metadata": {
        "id": "oHyr8k0x0HLl"
      },
      "source": [
        "EVALUATING PREDICTIONS"
      ]
    },
    {
      "cell_type": "code",
      "execution_count": 81,
      "metadata": {
        "colab": {
          "base_uri": "https://localhost:8080/"
        },
        "id": "5AGEF1QMYjFu",
        "outputId": "b9b95fce-5597-41b8-b382-58b2b9356e22"
      },
      "outputs": [
        {
          "data": {
            "text/plain": [
              "0.9576955235820408"
            ]
          },
          "execution_count": 81,
          "metadata": {},
          "output_type": "execute_result"
        }
      ],
      "source": [
        "#R square\n",
        "from sklearn.metrics import r2_score\n",
        "r2=r2_score(y_real,predictions)\n",
        "r2"
      ]
    },
    {
      "cell_type": "code",
      "execution_count": 82,
      "metadata": {
        "colab": {
          "base_uri": "https://localhost:8080/"
        },
        "id": "zTQzmdJaz_Ai",
        "outputId": "9489c8e6-3097-4ed0-d444-abf0df4cd33a"
      },
      "outputs": [
        {
          "data": {
            "text/plain": [
              "0.0039066326294288686"
            ]
          },
          "execution_count": 82,
          "metadata": {},
          "output_type": "execute_result"
        }
      ],
      "source": [
        "#Mean absolute error\n",
        "from sklearn.metrics import mean_absolute_error\n",
        "mean_absolute_error(y_real, predictions)"
      ]
    },
    {
      "cell_type": "code",
      "execution_count": 83,
      "metadata": {
        "colab": {
          "base_uri": "https://localhost:8080/"
        },
        "id": "MiMMnxfSvZTs",
        "outputId": "c89aa077-ca86-47b6-83e2-971ce305b763"
      },
      "outputs": [
        {
          "data": {
            "text/plain": [
              "2.521221097553433e-05"
            ]
          },
          "execution_count": 83,
          "metadata": {},
          "output_type": "execute_result"
        }
      ],
      "source": [
        "#Mean squared error\n",
        "from sklearn.metrics import mean_squared_error\n",
        "mean_squared_error(y_real, predictions)"
      ]
    },
    {
      "cell_type": "code",
      "execution_count": 85,
      "metadata": {
        "colab": {
          "base_uri": "https://localhost:8080/"
        },
        "id": "-PS0Yv-X0j79",
        "outputId": "1012458a-745d-40c6-ae66-420015f87e3d"
      },
      "outputs": [
        {
          "data": {
            "text/plain": [
              "0.0050211762541793265"
            ]
          },
          "execution_count": 85,
          "metadata": {},
          "output_type": "execute_result"
        }
      ],
      "source": [
        "#Root mean squared error\n",
        "import math\n",
        "from sklearn.metrics import mean_squared_error\n",
        "mse = mean_squared_error(y_real, predictions)\n",
        "rmse = math.sqrt(mse)\n",
        "rmse"
      ]
    },
    {
      "cell_type": "markdown",
      "metadata": {
        "id": "NjpmRmH4o5Rq"
      },
      "source": [
        "PREDICTING NEW DATA"
      ]
    },
    {
      "cell_type": "code",
      "execution_count": 22,
      "metadata": {
        "id": "YsrkZKXyo4if"
      },
      "outputs": [],
      "source": [
        "#Testing NEw DATA #\n",
        "#Split into features and target (Price)\n",
        "df = read_csv(\"/content/dataset_shade_new_data.csv\")\n",
        "X = df.drop('stitch_length', axis = 1)\n",
        "y = df['stitch_length']\n"
      ]
    },
    {
      "cell_type": "code",
      "execution_count": 23,
      "metadata": {
        "colab": {
          "base_uri": "https://localhost:8080/",
          "height": 81
        },
        "id": "WTIxmjVQpESl",
        "outputId": "db246304-8b61-4d96-c2fb-af4103655310"
      },
      "outputs": [
        {
          "data": {
            "text/html": [
              "\n",
              "  <div id=\"df-f8a4d94b-cf22-43f8-a07a-b5d309412f2a\">\n",
              "    <div class=\"colab-df-container\">\n",
              "      <div>\n",
              "<style scoped>\n",
              "    .dataframe tbody tr th:only-of-type {\n",
              "        vertical-align: middle;\n",
              "    }\n",
              "\n",
              "    .dataframe tbody tr th {\n",
              "        vertical-align: top;\n",
              "    }\n",
              "\n",
              "    .dataframe thead th {\n",
              "        text-align: right;\n",
              "    }\n",
              "</style>\n",
              "<table border=\"1\" class=\"dataframe\">\n",
              "  <thead>\n",
              "    <tr style=\"text-align: right;\">\n",
              "      <th></th>\n",
              "      <th>count</th>\n",
              "      <th>density</th>\n",
              "      <th>width</th>\n",
              "      <th>shade</th>\n",
              "      <th>diameter</th>\n",
              "      <th>gauge</th>\n",
              "      <th>needles</th>\n",
              "      <th>feeders</th>\n",
              "      <th>rpm</th>\n",
              "      <th>shrinkage_length</th>\n",
              "      <th>shrinkage_width</th>\n",
              "    </tr>\n",
              "  </thead>\n",
              "  <tbody>\n",
              "    <tr>\n",
              "      <th>0</th>\n",
              "      <td>19.683333</td>\n",
              "      <td>155</td>\n",
              "      <td>190</td>\n",
              "      <td>4</td>\n",
              "      <td>34</td>\n",
              "      <td>28</td>\n",
              "      <td>2976</td>\n",
              "      <td>102</td>\n",
              "      <td>22</td>\n",
              "      <td>3.5</td>\n",
              "      <td>5</td>\n",
              "    </tr>\n",
              "  </tbody>\n",
              "</table>\n",
              "</div>\n",
              "      <button class=\"colab-df-convert\" onclick=\"convertToInteractive('df-f8a4d94b-cf22-43f8-a07a-b5d309412f2a')\"\n",
              "              title=\"Convert this dataframe to an interactive table.\"\n",
              "              style=\"display:none;\">\n",
              "        \n",
              "  <svg xmlns=\"http://www.w3.org/2000/svg\" height=\"24px\"viewBox=\"0 0 24 24\"\n",
              "       width=\"24px\">\n",
              "    <path d=\"M0 0h24v24H0V0z\" fill=\"none\"/>\n",
              "    <path d=\"M18.56 5.44l.94 2.06.94-2.06 2.06-.94-2.06-.94-.94-2.06-.94 2.06-2.06.94zm-11 1L8.5 8.5l.94-2.06 2.06-.94-2.06-.94L8.5 2.5l-.94 2.06-2.06.94zm10 10l.94 2.06.94-2.06 2.06-.94-2.06-.94-.94-2.06-.94 2.06-2.06.94z\"/><path d=\"M17.41 7.96l-1.37-1.37c-.4-.4-.92-.59-1.43-.59-.52 0-1.04.2-1.43.59L10.3 9.45l-7.72 7.72c-.78.78-.78 2.05 0 2.83L4 21.41c.39.39.9.59 1.41.59.51 0 1.02-.2 1.41-.59l7.78-7.78 2.81-2.81c.8-.78.8-2.07 0-2.86zM5.41 20L4 18.59l7.72-7.72 1.47 1.35L5.41 20z\"/>\n",
              "  </svg>\n",
              "      </button>\n",
              "      \n",
              "  <style>\n",
              "    .colab-df-container {\n",
              "      display:flex;\n",
              "      flex-wrap:wrap;\n",
              "      gap: 12px;\n",
              "    }\n",
              "\n",
              "    .colab-df-convert {\n",
              "      background-color: #E8F0FE;\n",
              "      border: none;\n",
              "      border-radius: 50%;\n",
              "      cursor: pointer;\n",
              "      display: none;\n",
              "      fill: #1967D2;\n",
              "      height: 32px;\n",
              "      padding: 0 0 0 0;\n",
              "      width: 32px;\n",
              "    }\n",
              "\n",
              "    .colab-df-convert:hover {\n",
              "      background-color: #E2EBFA;\n",
              "      box-shadow: 0px 1px 2px rgba(60, 64, 67, 0.3), 0px 1px 3px 1px rgba(60, 64, 67, 0.15);\n",
              "      fill: #174EA6;\n",
              "    }\n",
              "\n",
              "    [theme=dark] .colab-df-convert {\n",
              "      background-color: #3B4455;\n",
              "      fill: #D2E3FC;\n",
              "    }\n",
              "\n",
              "    [theme=dark] .colab-df-convert:hover {\n",
              "      background-color: #434B5C;\n",
              "      box-shadow: 0px 1px 3px 1px rgba(0, 0, 0, 0.15);\n",
              "      filter: drop-shadow(0px 1px 2px rgba(0, 0, 0, 0.3));\n",
              "      fill: #FFFFFF;\n",
              "    }\n",
              "  </style>\n",
              "\n",
              "      <script>\n",
              "        const buttonEl =\n",
              "          document.querySelector('#df-f8a4d94b-cf22-43f8-a07a-b5d309412f2a button.colab-df-convert');\n",
              "        buttonEl.style.display =\n",
              "          google.colab.kernel.accessAllowed ? 'block' : 'none';\n",
              "\n",
              "        async function convertToInteractive(key) {\n",
              "          const element = document.querySelector('#df-f8a4d94b-cf22-43f8-a07a-b5d309412f2a');\n",
              "          const dataTable =\n",
              "            await google.colab.kernel.invokeFunction('convertToInteractive',\n",
              "                                                     [key], {});\n",
              "          if (!dataTable) return;\n",
              "\n",
              "          const docLinkHtml = 'Like what you see? Visit the ' +\n",
              "            '<a target=\"_blank\" href=https://colab.research.google.com/notebooks/data_table.ipynb>data table notebook</a>'\n",
              "            + ' to learn more about interactive tables.';\n",
              "          element.innerHTML = '';\n",
              "          dataTable['output_type'] = 'display_data';\n",
              "          await google.colab.output.renderOutput(dataTable, element);\n",
              "          const docLink = document.createElement('div');\n",
              "          docLink.innerHTML = docLinkHtml;\n",
              "          element.appendChild(docLink);\n",
              "        }\n",
              "      </script>\n",
              "    </div>\n",
              "  </div>\n",
              "  "
            ],
            "text/plain": [
              "       count  density  width  shade  diameter  gauge  needles  feeders  rpm  \\\n",
              "0  19.683333      155    190      4        34     28     2976      102   22   \n",
              "\n",
              "   shrinkage_length  shrinkage_width  \n",
              "0               3.5                5  "
            ]
          },
          "execution_count": 23,
          "metadata": {},
          "output_type": "execute_result"
        }
      ],
      "source": [
        "X"
      ]
    },
    {
      "cell_type": "code",
      "execution_count": 24,
      "metadata": {
        "colab": {
          "base_uri": "https://localhost:8080/"
        },
        "id": "ZNJb3jdBpICl",
        "outputId": "1bf98fb2-3f6d-44fd-822f-f4aed7550890"
      },
      "outputs": [
        {
          "data": {
            "text/plain": [
              "0    0.266297\n",
              "Name: stitch_length, dtype: float64"
            ]
          },
          "execution_count": 24,
          "metadata": {},
          "output_type": "execute_result"
        }
      ],
      "source": [
        "y"
      ]
    },
    {
      "cell_type": "code",
      "execution_count": 72,
      "metadata": {
        "colab": {
          "base_uri": "https://localhost:8080/"
        },
        "id": "8yfTioHzpMB2",
        "outputId": "5e6cc6a9-f264-442b-81e5-cea579d8be90"
      },
      "outputs": [
        {
          "data": {
            "text/plain": [
              "array([[-0.7001667 , -0.1729877 ,  0.75997302,  0.87486233,  0.69778179,\n",
              "         1.95456209,  1.99561433,  0.57451105,  0.55777011, -1.14539373,\n",
              "        -0.74412188]])"
            ]
          },
          "execution_count": 72,
          "metadata": {},
          "output_type": "execute_result"
        }
      ],
      "source": [
        "#Scale data, otherwise model will fail.\n",
        "#Standardize features by removing the mean and scaling to unit variance\n",
        "from sklearn.preprocessing import StandardScaler\n",
        "scaler=StandardScaler()\n",
        "scaler.fit(X_train)\n",
        "\n",
        "X_scaled = scaler.transform(X)\n",
        "X_scaled"
      ]
    },
    {
      "cell_type": "code",
      "execution_count": 73,
      "metadata": {
        "id": "U8KXmfrKpd6c"
      },
      "outputs": [],
      "source": [
        "feature_names = ['count', 'density', 'width','shade', 'diameter', 'gauge', 'needles', 'feeders', 'rpm', 'shrinkage_length', 'shrinkage_width']\n",
        "df= pd.DataFrame(X_scaled, columns = feature_names)"
      ]
    },
    {
      "cell_type": "code",
      "execution_count": 74,
      "metadata": {
        "colab": {
          "base_uri": "https://localhost:8080/"
        },
        "id": "31CGSk23pzGM",
        "outputId": "f02b30f4-9c87-4739-b354-db8fd066ec75"
      },
      "outputs": [
        {
          "name": "stdout",
          "output_type": "stream",
          "text": [
            "1/1 [==============================] - 0s 17ms/step\n",
            "Predicted values are:  [[0.25095174]]\n",
            "Real values are:  0.26629704\n"
          ]
        }
      ],
      "source": [
        "predictions = model.predict(df)\n",
        "print(\"Predicted values are: \", predictions)\n",
        "print(\"Real values are: \", y[0])"
      ]
    },
    {
      "cell_type": "markdown",
      "metadata": {
        "id": "-PVHRvUHqC_-"
      },
      "source": [
        "INTERPRETE PREDICTION"
      ]
    },
    {
      "cell_type": "code",
      "execution_count": null,
      "metadata": {
        "id": "9-tFvrN9uk-0"
      },
      "outputs": [],
      "source": [
        "!pip install lime"
      ]
    },
    {
      "cell_type": "code",
      "execution_count": 75,
      "metadata": {
        "id": "UAURjCk834kC"
      },
      "outputs": [],
      "source": [
        "import lime\n",
        "import lime.lime_tabular"
      ]
    },
    {
      "cell_type": "code",
      "execution_count": 76,
      "metadata": {
        "id": "aohlNk2v38uI"
      },
      "outputs": [],
      "source": [
        "feature_names = ['count', 'density', 'width','shade', 'diameter', 'gauge', 'needles', 'feeders', 'rpm', 'shrinkage_length', 'shrinkage_width','stitch_length']"
      ]
    },
    {
      "cell_type": "code",
      "execution_count": 77,
      "metadata": {
        "id": "Mche5DqinVuM"
      },
      "outputs": [],
      "source": [
        "explainer = lime.lime_tabular.LimeTabularExplainer(X_test_scaled, feature_names=feature_names, verbose=True, mode='regression')"
      ]
    },
    {
      "cell_type": "code",
      "execution_count": 78,
      "metadata": {
        "colab": {
          "base_uri": "https://localhost:8080/",
          "height": 350
        },
        "id": "6v4qDzOvrPTX",
        "outputId": "d1671a33-266a-4dbb-e55d-6a9943a9240c"
      },
      "outputs": [
        {
          "name": "stdout",
          "output_type": "stream",
          "text": [
            "157/157 [==============================] - 0s 1ms/step\n",
            "Intercept 0.281469536539197\n",
            "Prediction_local [0.25636622]\n",
            "Right: 0.25095174\n"
          ]
        },
        {
          "data": {
            "image/png": "[encoded data removed]",
            "text/plain": [
              "<Figure size 432x288 with 1 Axes>"
            ]
          },
          "metadata": {
            "needs_background": "light"
          },
          "output_type": "display_data"
        }
      ],
      "source": [
        "explain_data_point = explainer.explain_instance(df.iloc[0],model.predict, num_features=11)\n",
        "explain_data_point.as_pyplot_figure();"
      ]
    }
  ],
  "metadata": {
    "colab": {
      "collapsed_sections": [],
      "provenance": []
    },
    "kernelspec": {
      "display_name": "Python 3.8.5 ('venv': venv)",
      "language": "python",
      "name": "python3"
    },
    "language_info": {
      "name": "python",
      "version": "3.8.5"
    },
    "vscode": {
      "interpreter": {
        "hash": "ca94e67f3178e9f87c6cfdd7b08fa4b6b246cc01e3e706341993b6941036b268"
      }
    }
  },
  "nbformat": 4,
  "nbformat_minor": 0
}
