{
  "cells": [
    {
      "cell_type": "markdown",
      "metadata": {
        "id": "I-Ofn9rJeU3c"
      },
      "source": [
        "Regression DNN"
      ]
    },
    {
      "cell_type": "code",
      "execution_count": null,
      "metadata": {
        "id": "k3tDVv5Dd-st"
      },
      "outputs": [],
      "source": [
        "!pip install -q -U keras-tuner\n"
      ]
    },
    {
      "cell_type": "code",
      "execution_count": null,
      "metadata": {
        "id": "5GtxJdluk3tB"
      },
      "outputs": [],
      "source": [
        "from pandas import read_csv\n",
        "\n",
        "from keras.models import Sequential\n",
        "from keras.layers import Dense\n",
        "from keras.wrappers.scikit_learn import KerasRegressor\n",
        "from sklearn.model_selection import cross_val_score\n",
        "from sklearn.model_selection import KFold\n",
        "from sklearn.pipeline import Pipeline\n",
        "from sklearn.model_selection import train_test_split\n",
        "from keras.layers import Dropout \n",
        "from keras import regularizers \n",
        "\n",
        "import keras_tuner\n",
        "\n",
        "from tensorflow import keras"
      ]
    },
    {
      "cell_type": "code",
      "execution_count": null,
      "metadata": {
        "id": "uWgsYT5VlNrK"
      },
      "outputs": [],
      "source": [
        "# load data and arrange into Pandas dataframe\n",
        "df = read_csv(\"dataset_prepro.csv\")"
      ]
    },
    {
      "cell_type": "code",
      "execution_count": null,
      "metadata": {
        "colab": {
          "base_uri": "https://localhost:8080/"
        },
        "id": "6TgBz5_kla4Q",
        "outputId": "4a284991-cade-40ca-fb8d-3ba9066ce588"
      },
      "outputs": [
        {
          "name": "stdout",
          "output_type": "stream",
          "text": [
            "       count  density  width  white  light  medium  dark  extra_dark  black  \\\n",
            "0  19.683333      145  170.0      0      0       0     1           0      0   \n",
            "1  19.683333      155   91.0      0      0       0     0           0      1   \n",
            "2  19.683333      155   95.0      0      0       0     0           0      1   \n",
            "3  19.683333      155  169.0      0      0       0     0           0      1   \n",
            "4  19.683333      155  183.0      0      0       0     0           0      1   \n",
            "\n",
            "   diameter  gauge  needles  feeders  rpm  shrinkage_length  shrinkage_width  \\\n",
            "0        34     24     2568      102   22               6.5              1.0   \n",
            "1        34     28     2976      102   22               2.0              2.0   \n",
            "2        30     28     2640       88   24               2.0              2.0   \n",
            "3        30     28     2640       88   24               2.0              2.0   \n",
            "4        34     28     2976      102   22               2.0              2.0   \n",
            "\n",
            "   stitch_length  \n",
            "0       0.261293  \n",
            "1       0.281082  \n",
            "2       0.281061  \n",
            "3       0.281061  \n",
            "4       0.281082  \n"
          ]
        }
      ],
      "source": [
        "print(df.head())\n"
      ]
    },
    {
      "cell_type": "code",
      "execution_count": null,
      "metadata": {
        "colab": {
          "base_uri": "https://localhost:8080/"
        },
        "id": "uAk651pXmTox",
        "outputId": "80745a0f-2837-4491-97b5-4aeb6a9a4121"
      },
      "outputs": [
        {
          "name": "stdout",
          "output_type": "stream",
          "text": [
            "             count      density        width        white        light  \\\n",
            "count  7023.000000  7023.000000  7023.000000  7023.000000  7023.000000   \n",
            "mean     22.100323   157.463335   151.158123     0.137263     0.258152   \n",
            "std       3.402013    14.290564    49.446585     0.344150     0.437649   \n",
            "min      14.762500   120.000000    65.000000     0.000000     0.000000   \n",
            "25%      19.683333   145.000000    96.000000     0.000000     0.000000   \n",
            "50%      22.711538   160.000000   170.000000     0.000000     0.000000   \n",
            "75%      22.711538   165.000000   185.000000     0.000000     1.000000   \n",
            "max      36.906250   240.000000  1709.000000     1.000000     1.000000   \n",
            "\n",
            "            medium         dark  extra_dark        black     diameter  \\\n",
            "count  7023.000000  7023.000000      7023.0  7023.000000  7023.000000   \n",
            "mean      0.190659     0.135270         0.0     0.241492    32.755233   \n",
            "std       0.392849     0.342036         0.0     0.428018     1.775905   \n",
            "min       0.000000     0.000000         0.0     0.000000    28.000000   \n",
            "25%       0.000000     0.000000         0.0     0.000000    30.000000   \n",
            "50%       0.000000     0.000000         0.0     0.000000    34.000000   \n",
            "75%       0.000000     0.000000         0.0     0.000000    34.000000   \n",
            "max       1.000000     1.000000         0.0     1.000000    34.000000   \n",
            "\n",
            "             gauge      needles      feeders          rpm  shrinkage_length  \\\n",
            "count  7023.000000  7023.000000  7023.000000  7023.000000       7023.000000   \n",
            "mean     25.094689  2574.388723    89.012103    20.530543          5.051801   \n",
            "std       1.500025   202.928834    22.667887     2.639479          1.342679   \n",
            "min      16.000000  1692.000000     6.000000    12.000000          1.000000   \n",
            "25%      24.000000  2460.000000    88.000000    18.000000          4.200000   \n",
            "50%      24.000000  2568.000000   100.000000    22.000000          5.000000   \n",
            "75%      26.000000  2760.000000   102.000000    22.000000          6.000000   \n",
            "max      32.000000  3000.000000   109.000000    24.000000          9.000000   \n",
            "\n",
            "       shrinkage_width  stitch_length  \n",
            "count      7023.000000    7023.000000  \n",
            "mean          5.893308       0.280636  \n",
            "std           1.207583       0.021851  \n",
            "min           1.000000       0.002520  \n",
            "25%           5.000000       0.263991  \n",
            "50%           6.000000       0.279472  \n",
            "75%           7.000000       0.296951  \n",
            "max          10.000000       0.458038  \n"
          ]
        }
      ],
      "source": [
        "print(df.describe())"
      ]
    },
    {
      "cell_type": "code",
      "execution_count": null,
      "metadata": {
        "id": "2g6otHkFmtbz"
      },
      "outputs": [],
      "source": [
        "#Split into features and target (Price)\n",
        "X = df.drop('stitch_length', axis = 1)\n",
        "y = df['stitch_length']"
      ]
    },
    {
      "cell_type": "code",
      "execution_count": null,
      "metadata": {
        "id": "ILPHhzsZm3EZ"
      },
      "outputs": [],
      "source": [
        "X_train, X_test, y_train, y_test = train_test_split(X, y, test_size = 0.2, random_state = 20)"
      ]
    },
    {
      "cell_type": "code",
      "execution_count": null,
      "metadata": {
        "colab": {
          "base_uri": "https://localhost:8080/"
        },
        "id": "fQwWWLXum6qh",
        "outputId": "062c0027-3e28-42e5-913b-e44c26f741ee"
      },
      "outputs": [
        {
          "data": {
            "text/plain": [
              "StandardScaler()"
            ]
          },
          "execution_count": 67,
          "metadata": {},
          "output_type": "execute_result"
        }
      ],
      "source": [
        "#Scale dataset\n",
        "from sklearn.preprocessing import StandardScaler\n",
        "scaler=StandardScaler()\n",
        "scaler.fit(X_train)"
      ]
    },
    {
      "cell_type": "code",
      "execution_count": null,
      "metadata": {
        "id": "MwegoBiBm8qi"
      },
      "outputs": [],
      "source": [
        "X_train_scaled = scaler.transform(X_train)\n",
        "X_test_scaled = scaler.transform(X_test)"
      ]
    },
    {
      "cell_type": "code",
      "execution_count": null,
      "metadata": {
        "id": "0YKZTa-Vt1ho"
      },
      "outputs": [],
      "source": [
        "model = Sequential()\n",
        "model.add(Dense(50, input_dim=16, activation='tanh'))\n",
        "model.add(Dense(80, activation='relu'))\n",
        "model.add(Dense(50, activation='relu'))\n",
        "model.add(Dense(50, activation='relu'))\n",
        "model.add(Dense(50, activation='relu'))\n",
        "model.add(Dense(1))"
      ]
    },
    {
      "cell_type": "code",
      "execution_count": null,
      "metadata": {
        "id": "XTAexNjPuubS"
      },
      "outputs": [],
      "source": [
        "import tensorflow as tf\n",
        "tf.keras.optimizers.Adam(learning_rate=0.0001, beta_1=0.9, beta_2=0.999, amsgrad=False)\n",
        "model.compile(loss='mean_squared_error', optimizer='Adam', metrics=['mean_absolute_percentage_error'])"
      ]
    },
    {
      "cell_type": "code",
      "execution_count": null,
      "metadata": {
        "colab": {
          "base_uri": "https://localhost:8080/"
        },
        "id": "SxEczqSI3t5M",
        "outputId": "130204b8-e453-4a30-baff-b804306e08f2"
      },
      "outputs": [
        {
          "name": "stdout",
          "output_type": "stream",
          "text": [
            "Epoch 1/100\n",
            "36/36 [==============================] - 1s 8ms/step - loss: 0.0150 - mean_absolute_percentage_error: 29.4362 - val_loss: 0.0012 - val_mean_absolute_percentage_error: 9.4006\n",
            "Epoch 2/100\n",
            "36/36 [==============================] - 0s 4ms/step - loss: 8.0748e-04 - mean_absolute_percentage_error: 7.6559 - val_loss: 5.9215e-04 - val_mean_absolute_percentage_error: 6.4614\n",
            "Epoch 3/100\n",
            "36/36 [==============================] - 0s 4ms/step - loss: 4.4670e-04 - mean_absolute_percentage_error: 5.5856 - val_loss: 3.9647e-04 - val_mean_absolute_percentage_error: 5.2148\n",
            "Epoch 4/100\n",
            "36/36 [==============================] - 0s 4ms/step - loss: 3.1245e-04 - mean_absolute_percentage_error: 4.6089 - val_loss: 3.0088e-04 - val_mean_absolute_percentage_error: 4.5295\n",
            "Epoch 5/100\n",
            "36/36 [==============================] - 0s 4ms/step - loss: 2.4192e-04 - mean_absolute_percentage_error: 4.0594 - val_loss: 2.6107e-04 - val_mean_absolute_percentage_error: 4.2562\n",
            "Epoch 6/100\n",
            "36/36 [==============================] - 0s 4ms/step - loss: 1.8900e-04 - mean_absolute_percentage_error: 3.5834 - val_loss: 2.0732e-04 - val_mean_absolute_percentage_error: 3.6923\n",
            "Epoch 7/100\n",
            "36/36 [==============================] - 0s 4ms/step - loss: 1.5622e-04 - mean_absolute_percentage_error: 3.2180 - val_loss: 1.8047e-04 - val_mean_absolute_percentage_error: 3.4394\n",
            "Epoch 8/100\n",
            "36/36 [==============================] - 0s 4ms/step - loss: 1.3167e-04 - mean_absolute_percentage_error: 2.9342 - val_loss: 1.6431e-04 - val_mean_absolute_percentage_error: 3.2580\n",
            "Epoch 9/100\n",
            "36/36 [==============================] - 0s 4ms/step - loss: 1.1378e-04 - mean_absolute_percentage_error: 2.7348 - val_loss: 1.4621e-04 - val_mean_absolute_percentage_error: 3.0782\n",
            "Epoch 10/100\n",
            "36/36 [==============================] - 0s 4ms/step - loss: 1.0025e-04 - mean_absolute_percentage_error: 2.5728 - val_loss: 1.3594e-04 - val_mean_absolute_percentage_error: 3.0396\n",
            "Epoch 11/100\n",
            "36/36 [==============================] - 0s 4ms/step - loss: 9.1507e-05 - mean_absolute_percentage_error: 2.4817 - val_loss: 1.2527e-04 - val_mean_absolute_percentage_error: 2.8425\n",
            "Epoch 12/100\n",
            "36/36 [==============================] - 0s 4ms/step - loss: 7.8888e-05 - mean_absolute_percentage_error: 2.2882 - val_loss: 1.1858e-04 - val_mean_absolute_percentage_error: 2.7437\n",
            "Epoch 13/100\n",
            "36/36 [==============================] - 0s 4ms/step - loss: 7.2467e-05 - mean_absolute_percentage_error: 2.2085 - val_loss: 1.1298e-04 - val_mean_absolute_percentage_error: 2.6227\n",
            "Epoch 14/100\n",
            "36/36 [==============================] - 0s 4ms/step - loss: 6.6468e-05 - mean_absolute_percentage_error: 2.0989 - val_loss: 1.0339e-04 - val_mean_absolute_percentage_error: 2.5395\n",
            "Epoch 15/100\n",
            "36/36 [==============================] - 0s 3ms/step - loss: 6.1508e-05 - mean_absolute_percentage_error: 2.0133 - val_loss: 1.0061e-04 - val_mean_absolute_percentage_error: 2.4788\n",
            "Epoch 16/100\n",
            "36/36 [==============================] - 0s 4ms/step - loss: 5.5540e-05 - mean_absolute_percentage_error: 1.9479 - val_loss: 9.8770e-05 - val_mean_absolute_percentage_error: 2.4484\n",
            "Epoch 17/100\n",
            "36/36 [==============================] - 0s 4ms/step - loss: 5.0354e-05 - mean_absolute_percentage_error: 1.8253 - val_loss: 9.4870e-05 - val_mean_absolute_percentage_error: 2.3939\n",
            "Epoch 18/100\n",
            "36/36 [==============================] - 0s 4ms/step - loss: 4.7617e-05 - mean_absolute_percentage_error: 1.7944 - val_loss: 9.4706e-05 - val_mean_absolute_percentage_error: 2.3768\n",
            "Epoch 19/100\n",
            "36/36 [==============================] - 0s 4ms/step - loss: 4.5659e-05 - mean_absolute_percentage_error: 1.7520 - val_loss: 9.5459e-05 - val_mean_absolute_percentage_error: 2.3780\n",
            "Epoch 20/100\n",
            "36/36 [==============================] - 0s 4ms/step - loss: 4.1936e-05 - mean_absolute_percentage_error: 1.6852 - val_loss: 8.8260e-05 - val_mean_absolute_percentage_error: 2.2804\n",
            "Epoch 21/100\n",
            "36/36 [==============================] - 0s 4ms/step - loss: 4.0356e-05 - mean_absolute_percentage_error: 1.6563 - val_loss: 8.5233e-05 - val_mean_absolute_percentage_error: 2.2515\n",
            "Epoch 22/100\n",
            "36/36 [==============================] - 0s 4ms/step - loss: 3.7865e-05 - mean_absolute_percentage_error: 1.5973 - val_loss: 8.4124e-05 - val_mean_absolute_percentage_error: 2.2269\n",
            "Epoch 23/100\n",
            "36/36 [==============================] - 0s 4ms/step - loss: 3.6559e-05 - mean_absolute_percentage_error: 1.5624 - val_loss: 8.1266e-05 - val_mean_absolute_percentage_error: 2.1823\n",
            "Epoch 24/100\n",
            "36/36 [==============================] - 0s 5ms/step - loss: 3.3649e-05 - mean_absolute_percentage_error: 1.5081 - val_loss: 7.9395e-05 - val_mean_absolute_percentage_error: 2.1749\n",
            "Epoch 25/100\n",
            "36/36 [==============================] - 0s 4ms/step - loss: 3.2802e-05 - mean_absolute_percentage_error: 1.4978 - val_loss: 7.9557e-05 - val_mean_absolute_percentage_error: 2.1483\n",
            "Epoch 26/100\n",
            "36/36 [==============================] - 0s 4ms/step - loss: 3.2428e-05 - mean_absolute_percentage_error: 1.4789 - val_loss: 7.6759e-05 - val_mean_absolute_percentage_error: 2.1234\n",
            "Epoch 27/100\n",
            "36/36 [==============================] - 0s 4ms/step - loss: 3.0037e-05 - mean_absolute_percentage_error: 1.4353 - val_loss: 7.4997e-05 - val_mean_absolute_percentage_error: 2.0875\n",
            "Epoch 28/100\n",
            "36/36 [==============================] - 0s 4ms/step - loss: 2.8316e-05 - mean_absolute_percentage_error: 1.3874 - val_loss: 7.7031e-05 - val_mean_absolute_percentage_error: 2.1631\n",
            "Epoch 29/100\n",
            "36/36 [==============================] - 0s 4ms/step - loss: 2.7133e-05 - mean_absolute_percentage_error: 1.3593 - val_loss: 7.0617e-05 - val_mean_absolute_percentage_error: 2.0343\n",
            "Epoch 30/100\n",
            "36/36 [==============================] - 0s 4ms/step - loss: 2.6055e-05 - mean_absolute_percentage_error: 1.3192 - val_loss: 7.3382e-05 - val_mean_absolute_percentage_error: 2.0675\n",
            "Epoch 31/100\n",
            "36/36 [==============================] - 0s 4ms/step - loss: 2.4922e-05 - mean_absolute_percentage_error: 1.2933 - val_loss: 6.9581e-05 - val_mean_absolute_percentage_error: 2.0441\n",
            "Epoch 32/100\n",
            "36/36 [==============================] - 0s 4ms/step - loss: 2.4422e-05 - mean_absolute_percentage_error: 1.2872 - val_loss: 7.0681e-05 - val_mean_absolute_percentage_error: 2.0267\n",
            "Epoch 33/100\n",
            "36/36 [==============================] - 0s 4ms/step - loss: 2.2754e-05 - mean_absolute_percentage_error: 1.2363 - val_loss: 6.8157e-05 - val_mean_absolute_percentage_error: 1.9625\n",
            "Epoch 34/100\n",
            "36/36 [==============================] - 0s 4ms/step - loss: 2.3145e-05 - mean_absolute_percentage_error: 1.2418 - val_loss: 6.8940e-05 - val_mean_absolute_percentage_error: 1.9931\n",
            "Epoch 35/100\n",
            "36/36 [==============================] - 0s 4ms/step - loss: 2.1955e-05 - mean_absolute_percentage_error: 1.2210 - val_loss: 6.6685e-05 - val_mean_absolute_percentage_error: 1.9718\n",
            "Epoch 36/100\n",
            "36/36 [==============================] - 0s 4ms/step - loss: 2.2085e-05 - mean_absolute_percentage_error: 1.2390 - val_loss: 6.5764e-05 - val_mean_absolute_percentage_error: 1.9204\n",
            "Epoch 37/100\n",
            "36/36 [==============================] - 0s 4ms/step - loss: 2.0613e-05 - mean_absolute_percentage_error: 1.1746 - val_loss: 7.2638e-05 - val_mean_absolute_percentage_error: 2.0616\n",
            "Epoch 38/100\n",
            "36/36 [==============================] - 0s 4ms/step - loss: 2.2402e-05 - mean_absolute_percentage_error: 1.2436 - val_loss: 6.4081e-05 - val_mean_absolute_percentage_error: 1.9002\n",
            "Epoch 39/100\n",
            "36/36 [==============================] - 0s 3ms/step - loss: 1.9760e-05 - mean_absolute_percentage_error: 1.1619 - val_loss: 6.4918e-05 - val_mean_absolute_percentage_error: 1.8949\n",
            "Epoch 40/100\n",
            "36/36 [==============================] - 0s 4ms/step - loss: 1.9526e-05 - mean_absolute_percentage_error: 1.1523 - val_loss: 6.8438e-05 - val_mean_absolute_percentage_error: 2.0147\n",
            "Epoch 41/100\n",
            "36/36 [==============================] - 0s 4ms/step - loss: 1.9327e-05 - mean_absolute_percentage_error: 1.1628 - val_loss: 6.5956e-05 - val_mean_absolute_percentage_error: 1.9236\n",
            "Epoch 42/100\n",
            "36/36 [==============================] - 0s 4ms/step - loss: 2.0408e-05 - mean_absolute_percentage_error: 1.1990 - val_loss: 6.2823e-05 - val_mean_absolute_percentage_error: 1.8811\n",
            "Epoch 43/100\n",
            "36/36 [==============================] - 0s 4ms/step - loss: 1.7612e-05 - mean_absolute_percentage_error: 1.0984 - val_loss: 6.6942e-05 - val_mean_absolute_percentage_error: 1.9679\n",
            "Epoch 44/100\n",
            "36/36 [==============================] - 0s 4ms/step - loss: 1.7038e-05 - mean_absolute_percentage_error: 1.0838 - val_loss: 6.1916e-05 - val_mean_absolute_percentage_error: 1.9165\n",
            "Epoch 45/100\n",
            "36/36 [==============================] - 0s 4ms/step - loss: 1.7621e-05 - mean_absolute_percentage_error: 1.1152 - val_loss: 6.2015e-05 - val_mean_absolute_percentage_error: 1.8726\n",
            "Epoch 46/100\n",
            "36/36 [==============================] - 0s 4ms/step - loss: 1.7043e-05 - mean_absolute_percentage_error: 1.0877 - val_loss: 6.2455e-05 - val_mean_absolute_percentage_error: 1.8396\n",
            "Epoch 47/100\n",
            "36/36 [==============================] - 0s 4ms/step - loss: 1.6009e-05 - mean_absolute_percentage_error: 1.0440 - val_loss: 5.9068e-05 - val_mean_absolute_percentage_error: 1.8308\n",
            "Epoch 48/100\n",
            "36/36 [==============================] - 0s 4ms/step - loss: 1.6682e-05 - mean_absolute_percentage_error: 1.0905 - val_loss: 6.4311e-05 - val_mean_absolute_percentage_error: 1.8915\n",
            "Epoch 49/100\n",
            "36/36 [==============================] - 0s 3ms/step - loss: 1.6652e-05 - mean_absolute_percentage_error: 1.0671 - val_loss: 6.0995e-05 - val_mean_absolute_percentage_error: 1.8214\n",
            "Epoch 50/100\n",
            "36/36 [==============================] - 0s 4ms/step - loss: 1.5383e-05 - mean_absolute_percentage_error: 1.0338 - val_loss: 5.9105e-05 - val_mean_absolute_percentage_error: 1.8048\n",
            "Epoch 51/100\n",
            "36/36 [==============================] - 0s 4ms/step - loss: 1.4991e-05 - mean_absolute_percentage_error: 1.0214 - val_loss: 5.8757e-05 - val_mean_absolute_percentage_error: 1.7592\n",
            "Epoch 52/100\n",
            "36/36 [==============================] - 0s 4ms/step - loss: 1.6015e-05 - mean_absolute_percentage_error: 1.0565 - val_loss: 6.0443e-05 - val_mean_absolute_percentage_error: 1.8677\n",
            "Epoch 53/100\n",
            "36/36 [==============================] - 0s 4ms/step - loss: 1.4816e-05 - mean_absolute_percentage_error: 1.0294 - val_loss: 5.8887e-05 - val_mean_absolute_percentage_error: 1.7608\n",
            "Epoch 54/100\n",
            "36/36 [==============================] - 0s 4ms/step - loss: 1.3455e-05 - mean_absolute_percentage_error: 0.9520 - val_loss: 5.7448e-05 - val_mean_absolute_percentage_error: 1.7295\n",
            "Epoch 55/100\n",
            "36/36 [==============================] - 0s 4ms/step - loss: 1.4019e-05 - mean_absolute_percentage_error: 0.9759 - val_loss: 5.8794e-05 - val_mean_absolute_percentage_error: 1.7650\n",
            "Epoch 56/100\n",
            "36/36 [==============================] - 0s 4ms/step - loss: 1.4595e-05 - mean_absolute_percentage_error: 0.9880 - val_loss: 5.8347e-05 - val_mean_absolute_percentage_error: 1.7681\n",
            "Epoch 57/100\n",
            "36/36 [==============================] - 0s 4ms/step - loss: 1.4295e-05 - mean_absolute_percentage_error: 0.9983 - val_loss: 6.1603e-05 - val_mean_absolute_percentage_error: 1.8947\n",
            "Epoch 58/100\n",
            "36/36 [==============================] - 0s 4ms/step - loss: 1.4329e-05 - mean_absolute_percentage_error: 1.0045 - val_loss: 5.8876e-05 - val_mean_absolute_percentage_error: 1.8166\n",
            "Epoch 59/100\n",
            "36/36 [==============================] - 0s 4ms/step - loss: 1.5526e-05 - mean_absolute_percentage_error: 1.0314 - val_loss: 5.9750e-05 - val_mean_absolute_percentage_error: 1.7991\n"
          ]
        }
      ],
      "source": [
        "from keras import callbacks\n",
        "earlystopping = callbacks.EarlyStopping(monitor =\"val_loss\", \n",
        "                                        mode =\"min\", patience = 5, \n",
        "                                        restore_best_weights = True)\n",
        "  \n",
        "history = model.fit(X_train_scaled, y_train, batch_size = 128, \n",
        "                    epochs = 100, validation_split=0.2, \n",
        "                    callbacks =[earlystopping])"
      ]
    },
    {
      "cell_type": "code",
      "execution_count": null,
      "metadata": {
        "id": "qfPjDY59m_0V"
      },
      "outputs": [],
      "source": [
        "#fitting Model\n",
        "#history = model.fit(X_train_scaled, y_train, validation_split=0.2, epochs =100, callbacks =[earlystopping])"
      ]
    },
    {
      "cell_type": "code",
      "execution_count": null,
      "metadata": {
        "colab": {
          "base_uri": "https://localhost:8080/",
          "height": 295
        },
        "id": "PV_tzrxnnu3g",
        "outputId": "46ef4389-c801-4546-a30a-e657a8b15558"
      },
      "outputs": [
        {
          "data": {
            "image/png": "[encoded data removed]",
            "text/plain": [
              "<Figure size 432x288 with 1 Axes>"
            ]
          },
          "metadata": {
            "needs_background": "light"
          },
          "output_type": "display_data"
        }
      ],
      "source": [
        "from matplotlib import pyplot as plt\n",
        "#plot the training and validation accuracy and loss at each epoch\n",
        "loss = history.history['loss']\n",
        "val_loss = history.history['val_loss']\n",
        "epochs = range(1, len(loss) + 1)\n",
        "plt.plot(epochs, loss, 'y', label='Training loss')\n",
        "plt.plot(epochs, val_loss, 'r', label='Validation loss')\n",
        "plt.title('Training and validation loss')\n",
        "plt.xlabel('Epochs')\n",
        "plt.ylabel('Loss')\n",
        "plt.legend()\n",
        "plt.show()"
      ]
    },
    {
      "cell_type": "code",
      "execution_count": null,
      "metadata": {
        "colab": {
          "base_uri": "https://localhost:8080/"
        },
        "id": "KhIzF6CpoW_F",
        "outputId": "3e304dc2-0650-40aa-a22a-0d034c27ce7e"
      },
      "outputs": [
        {
          "name": "stdout",
          "output_type": "stream",
          "text": [
            "Predicted values are:  [[0.2649334 ]\n",
            " [0.2542006 ]\n",
            " [0.27634105]\n",
            " [0.3046462 ]\n",
            " [0.27323753]\n",
            " [0.2762041 ]\n",
            " [0.29088444]\n",
            " [0.2850004 ]\n",
            " [0.25444743]\n",
            " [0.3036595 ]]\n",
            "Real values are:  6754    0.270833\n",
            "1588    0.255040\n",
            "6667    0.276016\n",
            "97      0.305101\n",
            "2084    0.270325\n",
            "2927    0.285145\n",
            "5052    0.294003\n",
            "3987    0.288949\n",
            "1952    0.251984\n",
            "689     0.306042\n",
            "Name: stitch_length, dtype: float64\n"
          ]
        }
      ],
      "source": [
        "#Predict on test data\n",
        "predictions = model.predict(X_test_scaled[:10])\n",
        "y_real=y_test[:10]\n",
        "print(\"Predicted values are: \", predictions)\n",
        "print(\"Real values are: \", y_real)\n"
      ]
    },
    {
      "cell_type": "code",
      "execution_count": null,
      "metadata": {
        "colab": {
          "base_uri": "https://localhost:8080/"
        },
        "id": "5AGEF1QMYjFu",
        "outputId": "831ce490-180c-4787-da0f-59bad2000cb3"
      },
      "outputs": [
        {
          "data": {
            "text/plain": [
              "0.9017645748711131"
            ]
          },
          "execution_count": 87,
          "metadata": {},
          "output_type": "execute_result"
        }
      ],
      "source": [
        "from sklearn.metrics import r2_score\n",
        "r2=r2_score(y_real,predictions)\n",
        "r2"
      ]
    },
    {
      "cell_type": "code",
      "execution_count": null,
      "metadata": {
        "colab": {
          "base_uri": "https://localhost:8080/"
        },
        "id": "9-tFvrN9uk-0",
        "outputId": "b474b316-948c-459e-ab13-1f00698a3a93"
      },
      "outputs": [
        {
          "name": "stdout",
          "output_type": "stream",
          "text": [
            "Looking in indexes: https://pypi.org/simple, https://us-python.pkg.dev/colab-wheels/public/simple/\n",
            "Collecting lime\n",
            "  Downloading lime-0.2.0.1.tar.gz (275 kB)\n",
            "\u001b[K     |████████████████████████████████| 275 kB 5.2 MB/s \n",
            "\u001b[?25hRequirement already satisfied: matplotlib in /usr/local/lib/python3.7/dist-packages (from lime) (3.2.2)\n",
            "Requirement already satisfied: numpy in /usr/local/lib/python3.7/dist-packages (from lime) (1.21.6)\n",
            "Requirement already satisfied: scipy in /usr/local/lib/python3.7/dist-packages (from lime) (1.7.3)\n",
            "Requirement already satisfied: tqdm in /usr/local/lib/python3.7/dist-packages (from lime) (4.64.1)\n",
            "Requirement already satisfied: scikit-learn>=0.18 in /usr/local/lib/python3.7/dist-packages (from lime) (1.0.2)\n",
            "Requirement already satisfied: scikit-image>=0.12 in /usr/local/lib/python3.7/dist-packages (from lime) (0.18.3)\n",
            "Requirement already satisfied: PyWavelets>=1.1.1 in /usr/local/lib/python3.7/dist-packages (from scikit-image>=0.12->lime) (1.3.0)\n",
            "Requirement already satisfied: networkx>=2.0 in /usr/local/lib/python3.7/dist-packages (from scikit-image>=0.12->lime) (2.6.3)\n",
            "Requirement already satisfied: pillow!=7.1.0,!=7.1.1,>=4.3.0 in /usr/local/lib/python3.7/dist-packages (from scikit-image>=0.12->lime) (7.1.2)\n",
            "Requirement already satisfied: tifffile>=2019.7.26 in /usr/local/lib/python3.7/dist-packages (from scikit-image>=0.12->lime) (2021.11.2)\n",
            "Requirement already satisfied: imageio>=2.3.0 in /usr/local/lib/python3.7/dist-packages (from scikit-image>=0.12->lime) (2.9.0)\n",
            "Requirement already satisfied: kiwisolver>=1.0.1 in /usr/local/lib/python3.7/dist-packages (from matplotlib->lime) (1.4.4)\n",
            "Requirement already satisfied: cycler>=0.10 in /usr/local/lib/python3.7/dist-packages (from matplotlib->lime) (0.11.0)\n",
            "Requirement already satisfied: pyparsing!=2.0.4,!=2.1.2,!=2.1.6,>=2.0.1 in /usr/local/lib/python3.7/dist-packages (from matplotlib->lime) (3.0.9)\n",
            "Requirement already satisfied: python-dateutil>=2.1 in /usr/local/lib/python3.7/dist-packages (from matplotlib->lime) (2.8.2)\n",
            "Requirement already satisfied: typing-extensions in /usr/local/lib/python3.7/dist-packages (from kiwisolver>=1.0.1->matplotlib->lime) (4.1.1)\n",
            "Requirement already satisfied: six>=1.5 in /usr/local/lib/python3.7/dist-packages (from python-dateutil>=2.1->matplotlib->lime) (1.15.0)\n",
            "Requirement already satisfied: joblib>=0.11 in /usr/local/lib/python3.7/dist-packages (from scikit-learn>=0.18->lime) (1.2.0)\n",
            "Requirement already satisfied: threadpoolctl>=2.0.0 in /usr/local/lib/python3.7/dist-packages (from scikit-learn>=0.18->lime) (3.1.0)\n",
            "Building wheels for collected packages: lime\n",
            "  Building wheel for lime (setup.py) ... \u001b[?25l\u001b[?25hdone\n",
            "  Created wheel for lime: filename=lime-0.2.0.1-py3-none-any.whl size=283857 sha256=c2bb1d3346346f38c88b3e02d08d440d3da9bcd67eb9e0fcb8aed2412cf18c89\n",
            "  Stored in directory: /root/.cache/pip/wheels/ca/cb/e5/ac701e12d365a08917bf4c6171c0961bc880a8181359c66aa7\n",
            "Successfully built lime\n",
            "Installing collected packages: lime\n",
            "Successfully installed lime-0.2.0.1\n"
          ]
        }
      ],
      "source": [
        "!pip install lime"
      ]
    },
    {
      "cell_type": "code",
      "execution_count": null,
      "metadata": {
        "id": "UAURjCk834kC"
      },
      "outputs": [],
      "source": [
        "import lime\n",
        "import lime.lime_tabular"
      ]
    },
    {
      "cell_type": "code",
      "execution_count": null,
      "metadata": {
        "id": "aohlNk2v38uI"
      },
      "outputs": [],
      "source": [
        "feature_names = ['count', 'density', 'width','white', 'light', 'medium', 'dark', 'extra_dark', 'black', 'diameter', 'gauge', 'needles', 'feeders', 'rpm', 'shrinkage_length', 'shrinkage_width','stitch_length']"
      ]
    },
    {
      "cell_type": "code",
      "execution_count": null,
      "metadata": {
        "id": "Mche5DqinVuM"
      },
      "outputs": [],
      "source": [
        "explainer = lime.lime_tabular.LimeTabularExplainer(X_test_scaled, feature_names=feature_names, verbose=True, mode='regression')"
      ]
    },
    {
      "cell_type": "code",
      "execution_count": null,
      "metadata": {
        "id": "G_5Nrn7TwFpM"
      },
      "outputs": [],
      "source": [
        "import pandas as pd\n",
        "feature_names = ['count', 'density', 'width','white', 'light', 'medium', 'dark', 'extra_dark', 'black', 'diameter', 'gauge', 'needles', 'feeders', 'rpm', 'shrinkage_length', 'shrinkage_width']\n"
      ]
    },
    {
      "cell_type": "code",
      "execution_count": null,
      "metadata": {
        "colab": {
          "base_uri": "https://localhost:8080/"
        },
        "id": "wtKXfJ4xUD3n",
        "outputId": "82d00a00-bbea-4827-e68e-cecbd12e88c5"
      },
      "outputs": [
        {
          "data": {
            "text/plain": [
              "array([[-0.71511492, -0.52785533, -1.59188835, -0.399432  , -0.59311092,\n",
              "         2.08455879, -0.40301984,  0.        , -0.55966998, -0.40834319,\n",
              "        -0.72867652, -0.84618162,  0.57333369, -0.95476713,  1.44218093,\n",
              "         1.74860666],\n",
              "       [-1.07486317, -0.87760073, -1.33693141, -0.399432  , -0.59311092,\n",
              "        -0.47971782, -0.40301984,  0.        ,  1.78676728,  0.71180918,\n",
              "         1.94519982,  1.98763673,  0.57333369,  0.56302623, -0.03706001,\n",
              "        -0.74388876],\n",
              "       [ 0.17041924,  0.17163547,  0.44776714, -0.399432  ,  1.68602528,\n",
              "        -0.47971782, -0.40301984,  0.        , -0.55966998, -1.52849556,\n",
              "         0.60826165, -0.55099221,  0.30836259,  1.3219229 ,  0.70256046,\n",
              "         1.74860666],\n",
              "       [ 0.72387809,  0.17163547,  0.79543569, -0.399432  , -0.59311092,\n",
              "        -0.47971782, -0.40301984,  0.        ,  1.78676728,  0.71180918,\n",
              "        -0.72867652, -0.01965127,  0.57333369,  0.56302623, -0.03706001,\n",
              "        -2.40555237]])"
            ]
          },
          "execution_count": 106,
          "metadata": {},
          "output_type": "execute_result"
        }
      ],
      "source": [
        "#import numpy as np\n",
        "#a=X_test_scaled[:4]\n",
        "#a\n"
      ]
    },
    {
      "cell_type": "code",
      "execution_count": null,
      "metadata": {
        "id": "-GeXRw7_Vk0J"
      },
      "outputs": [],
      "source": [
        "df=pd.DataFrame(a)\n",
        "a=df.iloc[1]"
      ]
    },
    {
      "cell_type": "code",
      "execution_count": null,
      "metadata": {
        "colab": {
          "base_uri": "https://localhost:8080/",
          "height": 333
        },
        "id": "6v4qDzOvrPTX",
        "outputId": "210d513f-bb38-4a68-82a3-274c3f8626ab"
      },
      "outputs": [
        {
          "name": "stdout",
          "output_type": "stream",
          "text": [
            "Intercept 0.2714522636220815\n",
            "Prediction_local [0.26146594]\n",
            "Right: 0.2542006\n"
          ]
        },
        {
          "data": {
            "image/png": "[encoded data removed]",
            "text/plain": [
              "<Figure size 432x288 with 1 Axes>"
            ]
          },
          "metadata": {
            "needs_background": "light"
          },
          "output_type": "display_data"
        }
      ],
      "source": [
        "explain_data_point = explainer.explain_instance(a,model.predict, num_features=16)\n",
        "explain_data_point.as_pyplot_figure();"
      ]
    }
  ],
  "metadata": {
    "colab": {
      "collapsed_sections": [],
      "provenance": []
    },
    "kernelspec": {
      "display_name": "Python 3.8.5 ('venv': venv)",
      "language": "python",
      "name": "python3"
    },
    "language_info": {
      "name": "python",
      "version": "3.8.5"
    },
    "vscode": {
      "interpreter": {
        "hash": "ca94e67f3178e9f87c6cfdd7b08fa4b6b246cc01e3e706341993b6941036b268"
      }
    }
  },
  "nbformat": 4,
  "nbformat_minor": 0
}
